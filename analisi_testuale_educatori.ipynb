{
 "cells": [
  {
   "cell_type": "markdown",
   "metadata": {},
   "source": [
    "# 📊 Analisi testuale di trascrizione audio in italiano\n",
    "\n",
    "Questo notebook analizza il testo trascritto da un'intervista o discussione, utile a studi qualitativi su operatori socio-educativi in centri per minori stranieri non accompagnati.\n",
    "\n",
    "**Funzionalità:**\n",
    "- Frequenza parole\n",
    "- Analisi di sentiment\n",
    "- Co-occorrenze\n",
    "- Topic modeling (LDA)\n",
    "- Word Cloud\n",
    "\n",
    "> ⚙️ Prima di iniziare, assicurati di avere un file chiamato `trascrizione.txt` con il testo in italiano nella stessa directory del notebook."
   ]
  },
  {
   "cell_type": "code",
   "execution_count": null,
   "metadata": {},
   "outputs": [],
   "source": [
    "# 📦 Importa le librerie\n",
    "import pandas as pd\n",
    "import matplotlib.pyplot as plt\n",
    "from wordcloud import WordCloud\n",
    "from collections import Counter\n",
    "import spacy\n",
    "import nltk\n",
    "from nltk.corpus import stopwords\n",
    "from sklearn.feature_extraction.text import CountVectorizer\n",
    "from sklearn.decomposition import LatentDirichletAllocation\n",
    "nltk.download('stopwords')\n",
    "\n",
    "nlp = spacy.load("it_core_news_sm")"
   ]
  },
  {
   "cell_type": "code",
   "execution_count": null,
   "metadata": {},
   "outputs": [],
   "source": [
    "# 📄 Carica il file di trascrizione\n",
    "with open("trascrizione.txt", "r", encoding="utf-8") as f:\n",
    "    testo = f.read().lower()"
   ]
  },
  {
   "cell_type": "code",
   "execution_count": null,
   "metadata": {},
   "outputs": [],
   "source": [
    "# 🧹 Preprocessing\n",
    "stop_words = set(stopwords.words('italian'))\n",
    "doc = nlp(testo)\n",
    "tokens = [token.lemma_ for token in doc if token.is_alpha and token.lemma_ not in stop_words]\n",
    "frequenze = Counter(tokens)\n",
    "df_freq = pd.DataFrame(frequenze.most_common(20), columns=['Parola', 'Frequenza'])\n",
    "df_freq.plot(kind='bar', x='Parola', y='Frequenza', legend=False, figsize=(10,5))\n",
    "plt.title('🔠 Parole più frequenti')\n",
    "plt.show()"
   ]
  },
  {
   "cell_type": "code",
   "execution_count": null,
   "metadata": {},
   "outputs": [],
   "source": [
    "# ☁️ Word Cloud\n",
    "wordcloud = WordCloud(width=800, height=400, background_color='white').generate(' '.join(tokens))\n",
    "plt.figure(figsize=(10, 5))\n",
    "plt.imshow(wordcloud, interpolation='bilinear')\n",
    "plt.axis("off")\n",
    "plt.title("☁️ Word Cloud")\n",
    "plt.show()"
   ]
  },
  {
   "cell_type": "code",
   "execution_count": null,
   "metadata": {},
   "outputs": [],
   "source": [
    "# 🧩 Topic Modeling con LDA\n",
    "vectorizer = CountVectorizer(max_df=0.9, min_df=2, stop_words=stop_words)\n",
    "X = vectorizer.fit_transform([' '.join(tokens)])\n",
    "lda = LatentDirichletAllocation(n_components=3, random_state=42)\n",
    "lda.fit(X)\n",
    "\n",
    "for idx, topic in enumerate(lda.components_):\n",
    "    print(f"\n🧵 Topic {idx + 1}:")\n",
    "    print([vectorizer.get_feature_names_out()[i] for i in topic.argsort()[-10:]])"
   ]
  }
 ],
 "metadata": {
  "kernelspec": {
   "display_name": "Python 3",
   "language": "python",
   "name": "python3"
  },
  "language_info": {
   "name": "python",
   "version": ""
  }
 },
 "nbformat": 4,
 "nbformat_minor": 5
}
